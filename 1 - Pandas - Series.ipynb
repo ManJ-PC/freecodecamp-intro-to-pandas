{
  "cells": [
    {
      "cell_type": "markdown",
      "metadata": {
        "id": "_Lyz3FmOG3jw"
      },
      "source": [
        "![rmotr](https://user-images.githubusercontent.com/7065401/52071918-bda15380-2562-11e9-828c-7f95297e4a82.png)\n",
        "<hr style=\"margin-bottom: 40px;\">\n",
        "\n",
        "<img src=\"https://user-images.githubusercontent.com/7065401/75165824-badf4680-5701-11ea-9c5b-5475b0a33abf.png\"\n",
        "    style=\"width:300px; float: right; margin: 0 40px 40px 40px;\"></img>\n",
        "\n",
        "# Pandas - Series\n"
      ]
    },
    {
      "cell_type": "markdown",
      "metadata": {
        "id": "uuuQLNSbG3j4"
      },
      "source": [
        "![purple-divider](https://user-images.githubusercontent.com/7065401/52071927-c1cd7100-2562-11e9-908a-dde91ba14e59.png)\n",
        "\n",
        "## Hands on! "
      ]
    },
    {
      "cell_type": "code",
      "execution_count": 1,
      "metadata": {
        "id": "SYxb8zEPG3j7"
      },
      "outputs": [],
      "source": [
        "import pandas as pd\n",
        "import numpy as np"
      ]
    },
    {
      "cell_type": "markdown",
      "source": [
        "most important\n",
        " library or data analysis , very mature 1.0\n",
        "\n",
        "\n",
        "*   getting the data ( databases, excel, csv,\n",
        "*   processing the data\n",
        "*   visualizing the data by charts\n",
        "*   creating reports\n",
        "* stasticical analysis and do mahcine learning with help of other libraries\n",
        "\n",
        "\n",
        "\n"
      ],
      "metadata": {
        "id": "hhOUZcCKbCkl"
      }
    },
    {
      "cell_type": "markdown",
      "metadata": {
        "id": "z2JW2ypwG3kA"
      },
      "source": [
        "## Pandas Series\n",
        "\n",
        "We'll start analyzing \"[The Group of Seven](https://en.wikipedia.org/wiki/Group_of_Seven)\". Which is a political formed by Canada, France, Germany, Italy, Japan, the United Kingdom and the United States. We'll start by analyzing population, and for that, we'll use a `pandas.Series` object."
      ]
    },
    {
      "cell_type": "markdown",
      "source": [
        "* data structures are processed\n",
        "* writing files\n",
        "* grouping data"
      ],
      "metadata": {
        "id": "eGvu6skMb0wN"
      }
    },
    {
      "cell_type": "markdown",
      "source": [
        "two main data structures: dataFrames and Series"
      ],
      "metadata": {
        "id": "4Tz3CNAncUBa"
      }
    },
    {
      "cell_type": "code",
      "execution_count": 2,
      "metadata": {
        "id": "Oyj1Xw1YG3kD"
      },
      "outputs": [],
      "source": [
        "# In millions\n",
        "g7_pop = pd.Series([35.467, 63.951, 80.940, 60.665, 127.061, 64.511, 318.523])"
      ]
    },
    {
      "cell_type": "markdown",
      "source": [
        "all other libraries: pandas, matplotlib, the all sit on top of NumPy"
      ],
      "metadata": {
        "id": "PfKRkHWIciDq"
      }
    },
    {
      "cell_type": "markdown",
      "source": [
        "difference between list and Series:\n",
        "* the series has an associated data type (in this case all numner of series will be of typee float 64.)\n",
        "* can have a name\n",
        "* series inherently has an index (each element has an associated value within it)."
      ],
      "metadata": {
        "id": "f0D4fHAwdH0k"
      }
    },
    {
      "cell_type": "code",
      "execution_count": 3,
      "metadata": {
        "scrolled": true,
        "id": "hR5HMG2BG3kE",
        "outputId": "808a1396-516f-45ac-874d-8bf248812187",
        "colab": {
          "base_uri": "https://localhost:8080/"
        }
      },
      "outputs": [
        {
          "output_type": "execute_result",
          "data": {
            "text/plain": [
              "0     35.467\n",
              "1     63.951\n",
              "2     80.940\n",
              "3     60.665\n",
              "4    127.061\n",
              "5     64.511\n",
              "6    318.523\n",
              "dtype: float64"
            ]
          },
          "metadata": {},
          "execution_count": 3
        }
      ],
      "source": [
        "g7_pop"
      ]
    },
    {
      "cell_type": "code",
      "source": [],
      "metadata": {
        "id": "8bPXb1T1coEm"
      },
      "execution_count": 3,
      "outputs": []
    },
    {
      "cell_type": "markdown",
      "metadata": {
        "id": "ExoCzalxG3kH"
      },
      "source": [
        "Someone might not know we're representing population in millions of inhabitants. Series can have a `name`, to better document the purpose of the Series:"
      ]
    },
    {
      "cell_type": "code",
      "execution_count": 4,
      "metadata": {
        "id": "SJk88SqyG3kL"
      },
      "outputs": [],
      "source": [
        "g7_pop.name = 'G7 Population in millions'"
      ]
    },
    {
      "cell_type": "markdown",
      "source": [
        "Really, series can have a name!\n",
        "Now it might not make a ton of sense, but once this series is part of a dataframe in the form of a column, then the name is going to make a lot more sense."
      ],
      "metadata": {
        "id": "wJtzGcTApPXb"
      }
    },
    {
      "cell_type": "code",
      "execution_count": 5,
      "metadata": {
        "id": "mnjQ3AfKG3kO",
        "outputId": "3f311f94-a814-47e9-955f-3fa5d45bc3c0",
        "colab": {
          "base_uri": "https://localhost:8080/"
        }
      },
      "outputs": [
        {
          "output_type": "execute_result",
          "data": {
            "text/plain": [
              "0     35.467\n",
              "1     63.951\n",
              "2     80.940\n",
              "3     60.665\n",
              "4    127.061\n",
              "5     64.511\n",
              "6    318.523\n",
              "Name: G7 Population in millions, dtype: float64"
            ]
          },
          "metadata": {},
          "execution_count": 5
        }
      ],
      "source": [
        "g7_pop"
      ]
    },
    {
      "cell_type": "markdown",
      "metadata": {
        "id": "8KouQqd8G3kR"
      },
      "source": [
        "Series are pretty similar to numpy arrays:"
      ]
    },
    {
      "cell_type": "code",
      "execution_count": 6,
      "metadata": {
        "id": "YIWqPRfLG3kS",
        "outputId": "60aa2815-fe00-4b13-b7a6-70700a4ee125",
        "colab": {
          "base_uri": "https://localhost:8080/"
        }
      },
      "outputs": [
        {
          "output_type": "execute_result",
          "data": {
            "text/plain": [
              "dtype('float64')"
            ]
          },
          "metadata": {},
          "execution_count": 6
        }
      ],
      "source": [
        "g7_pop.dtype"
      ]
    },
    {
      "cell_type": "code",
      "execution_count": 7,
      "metadata": {
        "id": "NO8afTjlG3kT",
        "outputId": "ee1c866d-11f4-4d4e-c850-cf2956422735",
        "colab": {
          "base_uri": "https://localhost:8080/"
        }
      },
      "outputs": [
        {
          "output_type": "execute_result",
          "data": {
            "text/plain": [
              "array([ 35.467,  63.951,  80.94 ,  60.665, 127.061,  64.511, 318.523])"
            ]
          },
          "metadata": {},
          "execution_count": 7
        }
      ],
      "source": [
        "g7_pop.values"
      ]
    },
    {
      "cell_type": "markdown",
      "metadata": {
        "id": "6pAjA9nQG3kT"
      },
      "source": [
        "They're actually backed by numpy arrays:"
      ]
    },
    {
      "cell_type": "code",
      "execution_count": 8,
      "metadata": {
        "id": "Hyt7Cr5wG3kU",
        "outputId": "35d0f197-3032-4685-e78e-3430d79fb49f",
        "colab": {
          "base_uri": "https://localhost:8080/"
        }
      },
      "outputs": [
        {
          "output_type": "execute_result",
          "data": {
            "text/plain": [
              "numpy.ndarray"
            ]
          },
          "metadata": {},
          "execution_count": 8
        }
      ],
      "source": [
        "type(g7_pop.values)"
      ]
    },
    {
      "cell_type": "markdown",
      "metadata": {
        "id": "fWyqyuhSG3kV"
      },
      "source": [
        "And they _look_ like simple Python lists or Numpy Arrays. But they're actually more similar to Python `dict`s.\n",
        "\n",
        "A Series has an `index`, that's similar to the automatic index assigned to Python's lists:"
      ]
    },
    {
      "cell_type": "code",
      "execution_count": 9,
      "metadata": {
        "id": "cZECEkbVG3kV",
        "outputId": "996d1002-c5e9-46de-837b-d1d57114cef5",
        "colab": {
          "base_uri": "https://localhost:8080/"
        }
      },
      "outputs": [
        {
          "output_type": "execute_result",
          "data": {
            "text/plain": [
              "0     35.467\n",
              "1     63.951\n",
              "2     80.940\n",
              "3     60.665\n",
              "4    127.061\n",
              "5     64.511\n",
              "6    318.523\n",
              "Name: G7 Population in millions, dtype: float64"
            ]
          },
          "metadata": {},
          "execution_count": 9
        }
      ],
      "source": [
        "g7_pop"
      ]
    },
    {
      "cell_type": "code",
      "execution_count": 10,
      "metadata": {
        "id": "IDihs9-dG3kW",
        "outputId": "9e5585f6-df2b-4529-9b3d-69021248e00f",
        "colab": {
          "base_uri": "https://localhost:8080/"
        }
      },
      "outputs": [
        {
          "output_type": "execute_result",
          "data": {
            "text/plain": [
              "35.467"
            ]
          },
          "metadata": {},
          "execution_count": 10
        }
      ],
      "source": [
        "g7_pop[0]"
      ]
    },
    {
      "cell_type": "code",
      "execution_count": 11,
      "metadata": {
        "id": "Z-FRilPWG3kX",
        "outputId": "5b84ece3-3618-4486-b46f-a716bcd28bf6",
        "colab": {
          "base_uri": "https://localhost:8080/"
        }
      },
      "outputs": [
        {
          "output_type": "execute_result",
          "data": {
            "text/plain": [
              "63.951"
            ]
          },
          "metadata": {},
          "execution_count": 11
        }
      ],
      "source": [
        "g7_pop[1]"
      ]
    },
    {
      "cell_type": "code",
      "execution_count": 12,
      "metadata": {
        "id": "6zKF3J2_G3kY",
        "outputId": "74ba2997-b559-4ee8-f8be-7226c861b6e0",
        "colab": {
          "base_uri": "https://localhost:8080/"
        }
      },
      "outputs": [
        {
          "output_type": "execute_result",
          "data": {
            "text/plain": [
              "RangeIndex(start=0, stop=7, step=1)"
            ]
          },
          "metadata": {},
          "execution_count": 12
        }
      ],
      "source": [
        "g7_pop.index"
      ]
    },
    {
      "cell_type": "code",
      "execution_count": 13,
      "metadata": {
        "id": "HBxC9Od3G3kZ"
      },
      "outputs": [],
      "source": [
        "l = ['a', 'b', 'c']"
      ]
    },
    {
      "cell_type": "markdown",
      "metadata": {
        "id": "YNmBdCNvG3ka"
      },
      "source": [
        "But, in contrast to lists, we can explicitly define the index:"
      ]
    },
    {
      "cell_type": "markdown",
      "source": [
        "(fundamental difference: we can 1arbitrarily change the index of a series/ 2say (what is the) index of your series).\n",
        "\n",
        "We're going (to) be referring these values, no by a sequential position, but by a name (meaninful for our.. humans).\n",
        "\n",
        "\n",
        "So series is limit similar to a dictionary.\n",
        "but series are ordered... sequential data structure! (also support range or selection or slices."
      ],
      "metadata": {
        "id": "NBr7jXeuqys_"
      }
    },
    {
      "cell_type": "code",
      "execution_count": 14,
      "metadata": {
        "id": "wjhIMsP0G3ka"
      },
      "outputs": [],
      "source": [
        "g7_pop.index = [\n",
        "    'Canada',\n",
        "    'France',\n",
        "    'Germany',\n",
        "    'Italy',\n",
        "    'Japan',\n",
        "    'United Kingdom',\n",
        "    'United States',\n",
        "]"
      ]
    },
    {
      "cell_type": "markdown",
      "source": [
        "this series has now these indices\n",
        "referring to these values, not by a sequential position,\n",
        "but by a name/label/index (which has a meaningful name for us as humans."
      ],
      "metadata": {
        "id": "4vEsQwsMwSkb"
      }
    },
    {
      "cell_type": "code",
      "execution_count": 15,
      "metadata": {
        "id": "UtJF2X6VG3kb",
        "outputId": "47a920e5-db3b-4f2e-8f9d-6eef42178752",
        "colab": {
          "base_uri": "https://localhost:8080/"
        }
      },
      "outputs": [
        {
          "output_type": "execute_result",
          "data": {
            "text/plain": [
              "Canada             35.467\n",
              "France             63.951\n",
              "Germany            80.940\n",
              "Italy              60.665\n",
              "Japan             127.061\n",
              "United Kingdom     64.511\n",
              "United States     318.523\n",
              "Name: G7 Population in millions, dtype: float64"
            ]
          },
          "metadata": {},
          "execution_count": 15
        }
      ],
      "source": [
        "g7_pop"
      ]
    },
    {
      "cell_type": "markdown",
      "metadata": {
        "id": "lvKSTpDGG3kc"
      },
      "source": [
        "Compare it with the [following table](https://docs.google.com/spreadsheets/d/1IlorV2-Oh9Da1JAZ7weVw86PQrQydSMp-ydVMH135iI/edit?usp=sharing): \n",
        "\n",
        "<img width=\"350\" src=\"https://user-images.githubusercontent.com/872296/38149656-b5ce9816-3431-11e8-88e4-195756e25355.png\" />\n",
        "\n",
        "We can say that Series look like \"ordered dictionaries\". We can actually create Series out of dictionaries:"
      ]
    },
    {
      "cell_type": "code",
      "execution_count": 16,
      "metadata": {
        "scrolled": true,
        "id": "jGqxcmO7G3kd",
        "outputId": "e27efd35-2ea6-40de-879f-98ab5bd309e5",
        "colab": {
          "base_uri": "https://localhost:8080/"
        }
      },
      "outputs": [
        {
          "output_type": "execute_result",
          "data": {
            "text/plain": [
              "Canada             35.467\n",
              "France             63.951\n",
              "Germany            80.940\n",
              "Italy              60.665\n",
              "Japan             127.061\n",
              "United Kingdom     64.511\n",
              "United States     318.523\n",
              "Name: G7 Population in millions, dtype: float64"
            ]
          },
          "metadata": {},
          "execution_count": 16
        }
      ],
      "source": [
        "pd.Series({\n",
        "    'Canada': 35.467,\n",
        "    'France': 63.951,\n",
        "    'Germany': 80.94,\n",
        "    'Italy': 60.665,\n",
        "    'Japan': 127.061,\n",
        "    'United Kingdom': 64.511,\n",
        "    'United States': 318.523\n",
        "}, name='G7 Population in millions')"
      ]
    },
    {
      "cell_type": "code",
      "execution_count": 17,
      "metadata": {
        "id": "rGIyiN-OG3ke",
        "outputId": "104679a0-1e23-4a59-d14f-101433be29d2",
        "colab": {
          "base_uri": "https://localhost:8080/"
        }
      },
      "outputs": [
        {
          "output_type": "execute_result",
          "data": {
            "text/plain": [
              "Canada             35.467\n",
              "France             63.951\n",
              "Germany            80.940\n",
              "Italy              60.665\n",
              "Japan             127.061\n",
              "United Kingdom     64.511\n",
              "United States     318.523\n",
              "Name: G7 Population in millions, dtype: float64"
            ]
          },
          "metadata": {},
          "execution_count": 17
        }
      ],
      "source": [
        "pd.Series(\n",
        "    [35.467, 63.951, 80.94, 60.665, 127.061, 64.511, 318.523],\n",
        "    index=['Canada', 'France', 'Germany', 'Italy', 'Japan', 'United Kingdom',\n",
        "       'United States'],\n",
        "    name='G7 Population in millions')"
      ]
    },
    {
      "cell_type": "markdown",
      "metadata": {
        "id": "klaUHYY9G3kf"
      },
      "source": [
        "You can also create Series out of other series, specifying indexes:"
      ]
    },
    {
      "cell_type": "code",
      "execution_count": 18,
      "metadata": {
        "id": "BNZCLyTlG3kg",
        "outputId": "e8abb023-8bd0-430c-d87f-8fded7fde6f3",
        "colab": {
          "base_uri": "https://localhost:8080/"
        }
      },
      "outputs": [
        {
          "output_type": "execute_result",
          "data": {
            "text/plain": [
              "France     63.951\n",
              "Germany    80.940\n",
              "Italy      60.665\n",
              "Spain         NaN\n",
              "Name: G7 Population in millions, dtype: float64"
            ]
          },
          "metadata": {},
          "execution_count": 18
        }
      ],
      "source": [
        "pd.Series(g7_pop, index=['France', 'Germany', 'Italy', 'Spain'])"
      ]
    },
    {
      "cell_type": "code",
      "source": [],
      "metadata": {
        "id": "8wwsE9Pu8yWX"
      },
      "execution_count": 18,
      "outputs": []
    },
    {
      "cell_type": "markdown",
      "metadata": {
        "id": "uskVABN0G3kg"
      },
      "source": [
        "![green-divider](https://user-images.githubusercontent.com/7065401/52071924-c003ad80-2562-11e9-8297-1c6595f8a7ff.png)\n",
        "\n",
        "## Indexing\n",
        "\n",
        "Indexing works similarly to lists and dictionaries, you use the **index** of the element you're looking for:"
      ]
    },
    {
      "cell_type": "code",
      "execution_count": 19,
      "metadata": {
        "id": "08K5OCPLG3kh",
        "outputId": "d0d330d1-a96e-417c-a396-98d04665b24c",
        "colab": {
          "base_uri": "https://localhost:8080/"
        }
      },
      "outputs": [
        {
          "output_type": "execute_result",
          "data": {
            "text/plain": [
              "Canada             35.467\n",
              "France             63.951\n",
              "Germany            80.940\n",
              "Italy              60.665\n",
              "Japan             127.061\n",
              "United Kingdom     64.511\n",
              "United States     318.523\n",
              "Name: G7 Population in millions, dtype: float64"
            ]
          },
          "metadata": {},
          "execution_count": 19
        }
      ],
      "source": [
        "g7_pop"
      ]
    },
    {
      "cell_type": "markdown",
      "source": [
        "More explicit, each element has an associated value within it!"
      ],
      "metadata": {
        "id": "noVDa4Pz9Ljr"
      }
    },
    {
      "cell_type": "code",
      "execution_count": 20,
      "metadata": {
        "id": "VUb8SQoHG3ki",
        "outputId": "4924b9d7-447f-4744-a7dd-f47bb78fc151",
        "colab": {
          "base_uri": "https://localhost:8080/"
        }
      },
      "outputs": [
        {
          "output_type": "execute_result",
          "data": {
            "text/plain": [
              "35.467"
            ]
          },
          "metadata": {},
          "execution_count": 20
        }
      ],
      "source": [
        "g7_pop['Canada']"
      ]
    },
    {
      "cell_type": "code",
      "execution_count": 21,
      "metadata": {
        "id": "FEhVEgBWG3ki",
        "outputId": "4a080d7a-3669-4a0d-cf6c-fd2c207aae7f",
        "colab": {
          "base_uri": "https://localhost:8080/"
        }
      },
      "outputs": [
        {
          "output_type": "execute_result",
          "data": {
            "text/plain": [
              "127.061"
            ]
          },
          "metadata": {},
          "execution_count": 21
        }
      ],
      "source": [
        "g7_pop['Japan']"
      ]
    },
    {
      "cell_type": "markdown",
      "metadata": {
        "id": "bE6Wp4x0G3kj"
      },
      "source": [
        "Numeric positions can also be used, with the `iloc` attribute:"
      ]
    },
    {
      "cell_type": "code",
      "execution_count": 22,
      "metadata": {
        "id": "XoIoQmDVG3kj",
        "outputId": "000eab14-3a2c-4b94-997c-51937ac5321a",
        "colab": {
          "base_uri": "https://localhost:8080/"
        }
      },
      "outputs": [
        {
          "output_type": "execute_result",
          "data": {
            "text/plain": [
              "35.467"
            ]
          },
          "metadata": {},
          "execution_count": 22
        }
      ],
      "source": [
        "g7_pop.iloc[0]"
      ]
    },
    {
      "cell_type": "code",
      "execution_count": 23,
      "metadata": {
        "scrolled": true,
        "id": "OkfbNsMCG3kk",
        "outputId": "da1c5d25-f286-46c7-d587-d50cd2705e44",
        "colab": {
          "base_uri": "https://localhost:8080/"
        }
      },
      "outputs": [
        {
          "output_type": "execute_result",
          "data": {
            "text/plain": [
              "318.523"
            ]
          },
          "metadata": {},
          "execution_count": 23
        }
      ],
      "source": [
        "g7_pop.iloc[-1]"
      ]
    },
    {
      "cell_type": "markdown",
      "metadata": {
        "id": "SW4m7YV0G3kk"
      },
      "source": [
        "Selecting multiple elements at once:"
      ]
    },
    {
      "cell_type": "code",
      "execution_count": 24,
      "metadata": {
        "scrolled": true,
        "id": "MVsnVuI9G3kl",
        "outputId": "23385c47-44ef-416a-be91-c1d209b2560e",
        "colab": {
          "base_uri": "https://localhost:8080/"
        }
      },
      "outputs": [
        {
          "output_type": "execute_result",
          "data": {
            "text/plain": [
              "Italy     60.665\n",
              "France    63.951\n",
              "Name: G7 Population in millions, dtype: float64"
            ]
          },
          "metadata": {},
          "execution_count": 24
        }
      ],
      "source": [
        "g7_pop[['Italy', 'France']]"
      ]
    },
    {
      "cell_type": "markdown",
      "metadata": {
        "id": "GdrwytTIG3kl"
      },
      "source": [
        "_(The result is another Series)_"
      ]
    },
    {
      "cell_type": "code",
      "execution_count": 25,
      "metadata": {
        "scrolled": true,
        "id": "cX7VFWGcG3kl",
        "outputId": "606b4736-aaca-42d3-e3d3-fd157b48adb1",
        "colab": {
          "base_uri": "https://localhost:8080/"
        }
      },
      "outputs": [
        {
          "output_type": "execute_result",
          "data": {
            "text/plain": [
              "Canada    35.467\n",
              "France    63.951\n",
              "Name: G7 Population in millions, dtype: float64"
            ]
          },
          "metadata": {},
          "execution_count": 25
        }
      ],
      "source": [
        "g7_pop.iloc[[0, 1]]"
      ]
    },
    {
      "cell_type": "markdown",
      "metadata": {
        "id": "KFWo1eQeG3km"
      },
      "source": [
        "Slicing also works, but **important**, in Pandas, the upper limit is also included:"
      ]
    },
    {
      "cell_type": "code",
      "execution_count": 26,
      "metadata": {
        "id": "SZ0tpEEgG3kn",
        "outputId": "67c51aac-c3e0-4043-8dfc-f7de647125d3",
        "colab": {
          "base_uri": "https://localhost:8080/"
        }
      },
      "outputs": [
        {
          "output_type": "execute_result",
          "data": {
            "text/plain": [
              "Canada     35.467\n",
              "France     63.951\n",
              "Germany    80.940\n",
              "Italy      60.665\n",
              "Name: G7 Population in millions, dtype: float64"
            ]
          },
          "metadata": {},
          "execution_count": 26
        }
      ],
      "source": [
        "g7_pop['Canada': 'Italy']"
      ]
    },
    {
      "cell_type": "markdown",
      "metadata": {
        "id": "iAPFPLPpG3kn"
      },
      "source": [
        "![green-divider](https://user-images.githubusercontent.com/7065401/52071924-c003ad80-2562-11e9-8297-1c6595f8a7ff.png)\n",
        "\n",
        "## Conditional selection (boolean arrays)\n",
        "\n",
        "The same boolean array techniques we saw applied to numpy arrays can be used for Pandas `Series`:"
      ]
    },
    {
      "cell_type": "code",
      "execution_count": 27,
      "metadata": {
        "id": "71JIA8LNG3kq",
        "outputId": "b3e4d815-9936-4874-8de0-c32ca11bd387",
        "colab": {
          "base_uri": "https://localhost:8080/"
        }
      },
      "outputs": [
        {
          "output_type": "execute_result",
          "data": {
            "text/plain": [
              "Canada             35.467\n",
              "France             63.951\n",
              "Germany            80.940\n",
              "Italy              60.665\n",
              "Japan             127.061\n",
              "United Kingdom     64.511\n",
              "United States     318.523\n",
              "Name: G7 Population in millions, dtype: float64"
            ]
          },
          "metadata": {},
          "execution_count": 27
        }
      ],
      "source": [
        "g7_pop"
      ]
    },
    {
      "cell_type": "code",
      "execution_count": 28,
      "metadata": {
        "id": "LYb4dCHrG3kq",
        "outputId": "485e664e-935c-4a32-a85f-d51433ba0c48",
        "colab": {
          "base_uri": "https://localhost:8080/"
        }
      },
      "outputs": [
        {
          "output_type": "execute_result",
          "data": {
            "text/plain": [
              "Canada            False\n",
              "France            False\n",
              "Germany            True\n",
              "Italy             False\n",
              "Japan              True\n",
              "United Kingdom    False\n",
              "United States      True\n",
              "Name: G7 Population in millions, dtype: bool"
            ]
          },
          "metadata": {},
          "execution_count": 28
        }
      ],
      "source": [
        "g7_pop > 70"
      ]
    },
    {
      "cell_type": "code",
      "execution_count": 29,
      "metadata": {
        "id": "VLNvG3MGG3kr",
        "outputId": "4105a90e-ae87-46da-ea24-3fe965cf967c",
        "colab": {
          "base_uri": "https://localhost:8080/"
        }
      },
      "outputs": [
        {
          "output_type": "execute_result",
          "data": {
            "text/plain": [
              "Germany           80.940\n",
              "Japan            127.061\n",
              "United States    318.523\n",
              "Name: G7 Population in millions, dtype: float64"
            ]
          },
          "metadata": {},
          "execution_count": 29
        }
      ],
      "source": [
        "g7_pop[g7_pop > 70]"
      ]
    },
    {
      "cell_type": "code",
      "execution_count": 30,
      "metadata": {
        "id": "X8av6FRUG3ks",
        "outputId": "0790fe32-79b3-47d2-c738-91a9cfb8f8c4",
        "colab": {
          "base_uri": "https://localhost:8080/"
        }
      },
      "outputs": [
        {
          "output_type": "execute_result",
          "data": {
            "text/plain": [
              "107.30257142857144"
            ]
          },
          "metadata": {},
          "execution_count": 30
        }
      ],
      "source": [
        "g7_pop.mean()"
      ]
    },
    {
      "cell_type": "code",
      "execution_count": 31,
      "metadata": {
        "id": "6gYps8p5G3ks",
        "outputId": "89e30af3-04de-4ac7-e5b0-7b31828ba1c6",
        "colab": {
          "base_uri": "https://localhost:8080/"
        }
      },
      "outputs": [
        {
          "output_type": "execute_result",
          "data": {
            "text/plain": [
              "Japan            127.061\n",
              "United States    318.523\n",
              "Name: G7 Population in millions, dtype: float64"
            ]
          },
          "metadata": {},
          "execution_count": 31
        }
      ],
      "source": [
        "g7_pop[g7_pop > g7_pop.mean()]"
      ]
    },
    {
      "cell_type": "code",
      "execution_count": 32,
      "metadata": {
        "id": "F-ZvM9QZG3kt",
        "outputId": "390ef5e4-170b-4e89-a7cb-2ee77eb8e1ee",
        "colab": {
          "base_uri": "https://localhost:8080/"
        }
      },
      "outputs": [
        {
          "output_type": "execute_result",
          "data": {
            "text/plain": [
              "97.24996987121581"
            ]
          },
          "metadata": {},
          "execution_count": 32
        }
      ],
      "source": [
        "g7_pop.std()"
      ]
    },
    {
      "cell_type": "markdown",
      "source": [
        "\n",
        "\n",
        " ~ not\n",
        "\n",
        "| or\n",
        "\n",
        "\n",
        "& and\n",
        "\n",
        "\n",
        "\n"
      ],
      "metadata": {
        "id": "aTSezimap9_H"
      }
    },
    {
      "cell_type": "code",
      "source": [
        "g7_pop.std() / 2"
      ],
      "metadata": {
        "id": "84tDZdNOqnsx",
        "outputId": "8b7c3492-8baf-4229-c17a-71d259745cdf",
        "colab": {
          "base_uri": "https://localhost:8080/"
        }
      },
      "execution_count": 33,
      "outputs": [
        {
          "output_type": "execute_result",
          "data": {
            "text/plain": [
              "48.624984935607905"
            ]
          },
          "metadata": {},
          "execution_count": 33
        }
      ]
    },
    {
      "cell_type": "code",
      "source": [
        "g7_pop.mean()"
      ],
      "metadata": {
        "id": "qR1niaALOUEH",
        "outputId": "76560014-e656-49a4-96bb-c957cc51a479",
        "colab": {
          "base_uri": "https://localhost:8080/"
        }
      },
      "execution_count": 52,
      "outputs": [
        {
          "output_type": "execute_result",
          "data": {
            "text/plain": [
              "101.13585714285715"
            ]
          },
          "metadata": {},
          "execution_count": 52
        }
      ]
    },
    {
      "cell_type": "code",
      "source": [
        "g7_pop.mean() + g7_pop.std() / 2"
      ],
      "metadata": {
        "id": "RKRaRorwOZuE",
        "outputId": "c20fa695-ef03-4787-f418-7041498879f9",
        "colab": {
          "base_uri": "https://localhost:8080/"
        }
      },
      "execution_count": 53,
      "outputs": [
        {
          "output_type": "execute_result",
          "data": {
            "text/plain": [
              "107.8643742555436"
            ]
          },
          "metadata": {},
          "execution_count": 53
        }
      ]
    },
    {
      "cell_type": "code",
      "source": [
        "g7_pop.mean() - g7_pop.std() / 2"
      ],
      "metadata": {
        "id": "zi2P-RLqOc5z",
        "outputId": "c3ef2a91-fb4a-425a-d6e4-25a7fbe2f931",
        "colab": {
          "base_uri": "https://localhost:8080/"
        }
      },
      "execution_count": 55,
      "outputs": [
        {
          "output_type": "execute_result",
          "data": {
            "text/plain": [
              "94.4073400301707"
            ]
          },
          "metadata": {},
          "execution_count": 55
        }
      ]
    },
    {
      "cell_type": "code",
      "execution_count": 56,
      "metadata": {
        "scrolled": true,
        "id": "GeoqJc0ZG3kv",
        "outputId": "4ba9174f-79f0-49a9-ecb4-218367e9148f",
        "colab": {
          "base_uri": "https://localhost:8080/"
        }
      },
      "outputs": [
        {
          "output_type": "execute_result",
          "data": {
            "text/plain": [
              "Canada             99.990\n",
              "France             99.990\n",
              "Italy              99.990\n",
              "Japan             127.061\n",
              "United Kingdom     99.990\n",
              "United States      99.990\n",
              "Name: G7 Population in millions, dtype: float64"
            ]
          },
          "metadata": {},
          "execution_count": 56
        }
      ],
      "source": [
        "g7_pop[(g7_pop > g7_pop.mean() - g7_pop.std() / 2) | (g7_pop > g7_pop.mean() + g7_pop.std() / 2)]"
      ]
    },
    {
      "cell_type": "code",
      "source": [
        "g7_pop"
      ],
      "metadata": {
        "id": "V6PJCy2KO956",
        "outputId": "d3317ae5-c80a-4607-e791-15e78268fa86",
        "colab": {
          "base_uri": "https://localhost:8080/"
        }
      },
      "execution_count": 57,
      "outputs": [
        {
          "output_type": "execute_result",
          "data": {
            "text/plain": [
              "Canada             99.990\n",
              "France             99.990\n",
              "Germany            80.940\n",
              "Italy              99.990\n",
              "Japan             127.061\n",
              "United Kingdom     99.990\n",
              "United States      99.990\n",
              "Name: G7 Population in millions, dtype: float64"
            ]
          },
          "metadata": {},
          "execution_count": 57
        }
      ]
    },
    {
      "cell_type": "code",
      "source": [
        "import math"
      ],
      "metadata": {
        "id": "E3UqsBsYP1VP"
      },
      "execution_count": 60,
      "outputs": []
    },
    {
      "cell_type": "code",
      "source": [
        "math.exp(5.76)"
      ],
      "metadata": {
        "id": "HCCLo2nJPbMV",
        "outputId": "2867a68b-8f3e-4fa1-84ac-17d7a37977d1",
        "colab": {
          "base_uri": "https://localhost:8080/"
        }
      },
      "execution_count": 63,
      "outputs": [
        {
          "output_type": "execute_result",
          "data": {
            "text/plain": [
              "317.34832891785044"
            ]
          },
          "metadata": {},
          "execution_count": 63
        }
      ]
    },
    {
      "cell_type": "code",
      "source": [
        "math.exp(1)"
      ],
      "metadata": {
        "id": "EUcUxu0HQ0Bf",
        "outputId": "5315735f-6e6e-45b5-d2a5-449427105b0a",
        "colab": {
          "base_uri": "https://localhost:8080/"
        }
      },
      "execution_count": 64,
      "outputs": [
        {
          "output_type": "execute_result",
          "data": {
            "text/plain": [
              "2.718281828459045"
            ]
          },
          "metadata": {},
          "execution_count": 64
        }
      ]
    },
    {
      "cell_type": "markdown",
      "metadata": {
        "id": "IyisVgcUG3kv"
      },
      "source": [
        "![green-divider](https://user-images.githubusercontent.com/7065401/52071924-c003ad80-2562-11e9-8297-1c6595f8a7ff.png)\n",
        "\n",
        "## Operations and methods\n",
        "Series also support vectorized operations and aggregation functions as Numpy:"
      ]
    },
    {
      "cell_type": "code",
      "execution_count": 35,
      "metadata": {
        "id": "113QCzpbG3kw",
        "outputId": "2886671b-ef5a-44ca-c2b0-85f729664561",
        "colab": {
          "base_uri": "https://localhost:8080/"
        }
      },
      "outputs": [
        {
          "output_type": "execute_result",
          "data": {
            "text/plain": [
              "Canada             35.467\n",
              "France             63.951\n",
              "Germany            80.940\n",
              "Italy              60.665\n",
              "Japan             127.061\n",
              "United Kingdom     64.511\n",
              "United States     318.523\n",
              "Name: G7 Population in millions, dtype: float64"
            ]
          },
          "metadata": {},
          "execution_count": 35
        }
      ],
      "source": [
        "g7_pop"
      ]
    },
    {
      "cell_type": "code",
      "execution_count": 36,
      "metadata": {
        "id": "R4r1J4ViG3kw",
        "outputId": "2f1e5994-cc07-46e5-e53c-943478494e7d",
        "colab": {
          "base_uri": "https://localhost:8080/"
        }
      },
      "outputs": [
        {
          "output_type": "execute_result",
          "data": {
            "text/plain": [
              "Canada             35467000.0\n",
              "France             63951000.0\n",
              "Germany            80940000.0\n",
              "Italy              60665000.0\n",
              "Japan             127061000.0\n",
              "United Kingdom     64511000.0\n",
              "United States     318523000.0\n",
              "Name: G7 Population in millions, dtype: float64"
            ]
          },
          "metadata": {},
          "execution_count": 36
        }
      ],
      "source": [
        "g7_pop * 1_000_000"
      ]
    },
    {
      "cell_type": "code",
      "execution_count": 37,
      "metadata": {
        "id": "Sey3c3SYG3kx",
        "outputId": "e4e55770-3038-4efb-ede2-bea1e764171e",
        "colab": {
          "base_uri": "https://localhost:8080/"
        }
      },
      "outputs": [
        {
          "output_type": "execute_result",
          "data": {
            "text/plain": [
              "107.30257142857144"
            ]
          },
          "metadata": {},
          "execution_count": 37
        }
      ],
      "source": [
        "g7_pop.mean()"
      ]
    },
    {
      "cell_type": "code",
      "execution_count": 38,
      "metadata": {
        "scrolled": true,
        "id": "9X9mv_8_G3ky",
        "outputId": "bfe8eaed-2ae2-4c29-e46b-81ed16dd23d5",
        "colab": {
          "base_uri": "https://localhost:8080/"
        }
      },
      "outputs": [
        {
          "output_type": "execute_result",
          "data": {
            "text/plain": [
              "Canada            3.568603\n",
              "France            4.158117\n",
              "Germany           4.393708\n",
              "Italy             4.105367\n",
              "Japan             4.844667\n",
              "United Kingdom    4.166836\n",
              "United States     5.763695\n",
              "Name: G7 Population in millions, dtype: float64"
            ]
          },
          "metadata": {},
          "execution_count": 38
        }
      ],
      "source": [
        "np.log(g7_pop)"
      ]
    },
    {
      "cell_type": "code",
      "execution_count": 39,
      "metadata": {
        "id": "2kb_TYrkG3ky",
        "outputId": "b53543a5-a868-41ea-948b-fc5d611190af",
        "colab": {
          "base_uri": "https://localhost:8080/"
        }
      },
      "outputs": [
        {
          "output_type": "execute_result",
          "data": {
            "text/plain": [
              "68.51866666666666"
            ]
          },
          "metadata": {},
          "execution_count": 39
        }
      ],
      "source": [
        "g7_pop['France': 'Italy'].mean()"
      ]
    },
    {
      "cell_type": "markdown",
      "metadata": {
        "id": "IRJOXA_8G3kz"
      },
      "source": [
        "![green-divider](https://user-images.githubusercontent.com/7065401/52071924-c003ad80-2562-11e9-8297-1c6595f8a7ff.png)\n",
        "\n",
        "## Boolean arrays\n",
        "(Work in the same way as numpy)"
      ]
    },
    {
      "cell_type": "code",
      "execution_count": 40,
      "metadata": {
        "id": "7IFFxE8RG3k2",
        "outputId": "c06917ec-219c-4711-a2df-6da317cbe363",
        "colab": {
          "base_uri": "https://localhost:8080/"
        }
      },
      "outputs": [
        {
          "output_type": "execute_result",
          "data": {
            "text/plain": [
              "Canada             35.467\n",
              "France             63.951\n",
              "Germany            80.940\n",
              "Italy              60.665\n",
              "Japan             127.061\n",
              "United Kingdom     64.511\n",
              "United States     318.523\n",
              "Name: G7 Population in millions, dtype: float64"
            ]
          },
          "metadata": {},
          "execution_count": 40
        }
      ],
      "source": [
        "g7_pop"
      ]
    },
    {
      "cell_type": "code",
      "execution_count": 41,
      "metadata": {
        "id": "Pr-4ia01G3k3",
        "outputId": "16d52fad-1838-4791-b82f-7be85929384d",
        "colab": {
          "base_uri": "https://localhost:8080/"
        }
      },
      "outputs": [
        {
          "output_type": "execute_result",
          "data": {
            "text/plain": [
              "Canada            False\n",
              "France            False\n",
              "Germany            True\n",
              "Italy             False\n",
              "Japan              True\n",
              "United Kingdom    False\n",
              "United States      True\n",
              "Name: G7 Population in millions, dtype: bool"
            ]
          },
          "metadata": {},
          "execution_count": 41
        }
      ],
      "source": [
        "g7_pop > 80"
      ]
    },
    {
      "cell_type": "code",
      "execution_count": 42,
      "metadata": {
        "scrolled": true,
        "id": "REzfmCJfG3k4",
        "outputId": "9c907ba3-36da-4776-a9b2-0337fc9a22ec",
        "colab": {
          "base_uri": "https://localhost:8080/"
        }
      },
      "outputs": [
        {
          "output_type": "execute_result",
          "data": {
            "text/plain": [
              "Germany           80.940\n",
              "Japan            127.061\n",
              "United States    318.523\n",
              "Name: G7 Population in millions, dtype: float64"
            ]
          },
          "metadata": {},
          "execution_count": 42
        }
      ],
      "source": [
        "g7_pop[g7_pop > 80]"
      ]
    },
    {
      "cell_type": "code",
      "execution_count": 43,
      "metadata": {
        "scrolled": true,
        "id": "tGrV9AQ0G3k7",
        "outputId": "abcaa362-2131-402b-e33b-81a8e2e76bd2",
        "colab": {
          "base_uri": "https://localhost:8080/"
        }
      },
      "outputs": [
        {
          "output_type": "execute_result",
          "data": {
            "text/plain": [
              "Canada            35.467\n",
              "Germany           80.940\n",
              "Japan            127.061\n",
              "United States    318.523\n",
              "Name: G7 Population in millions, dtype: float64"
            ]
          },
          "metadata": {},
          "execution_count": 43
        }
      ],
      "source": [
        "g7_pop[(g7_pop > 80) | (g7_pop < 40)]"
      ]
    },
    {
      "cell_type": "code",
      "execution_count": 44,
      "metadata": {
        "scrolled": true,
        "id": "HWOeUBN0G3k9",
        "outputId": "afd5604d-96bb-4bd0-d7dd-b0c738d34e2b",
        "colab": {
          "base_uri": "https://localhost:8080/"
        }
      },
      "outputs": [
        {
          "output_type": "execute_result",
          "data": {
            "text/plain": [
              "Germany     80.940\n",
              "Japan      127.061\n",
              "Name: G7 Population in millions, dtype: float64"
            ]
          },
          "metadata": {},
          "execution_count": 44
        }
      ],
      "source": [
        "g7_pop[(g7_pop > 80) & (g7_pop < 200)]"
      ]
    },
    {
      "cell_type": "markdown",
      "metadata": {
        "id": "V1mNbPU8G3k9"
      },
      "source": [
        "![green-divider](https://user-images.githubusercontent.com/7065401/52071924-c003ad80-2562-11e9-8297-1c6595f8a7ff.png)\n",
        "\n",
        "## Modifying series\n"
      ]
    },
    {
      "cell_type": "code",
      "execution_count": 45,
      "metadata": {
        "id": "81wWx9J6G3k-"
      },
      "outputs": [],
      "source": [
        "g7_pop['Canada'] = 40.5"
      ]
    },
    {
      "cell_type": "code",
      "execution_count": 46,
      "metadata": {
        "id": "4flwWmcaG3lB",
        "outputId": "59e4dc0e-9601-45c8-b84e-6e3fd4c864bb",
        "colab": {
          "base_uri": "https://localhost:8080/"
        }
      },
      "outputs": [
        {
          "output_type": "execute_result",
          "data": {
            "text/plain": [
              "Canada             40.500\n",
              "France             63.951\n",
              "Germany            80.940\n",
              "Italy              60.665\n",
              "Japan             127.061\n",
              "United Kingdom     64.511\n",
              "United States     318.523\n",
              "Name: G7 Population in millions, dtype: float64"
            ]
          },
          "metadata": {},
          "execution_count": 46
        }
      ],
      "source": [
        "g7_pop"
      ]
    },
    {
      "cell_type": "code",
      "execution_count": 47,
      "metadata": {
        "id": "3-ev2sR_G3lB"
      },
      "outputs": [],
      "source": [
        "g7_pop.iloc[-1] = -500"
      ]
    },
    {
      "cell_type": "code",
      "execution_count": 48,
      "metadata": {
        "id": "fytMDNjMG3lC",
        "outputId": "58f488a5-a452-48d7-8b1f-ce595fbfcd08",
        "colab": {
          "base_uri": "https://localhost:8080/"
        }
      },
      "outputs": [
        {
          "output_type": "execute_result",
          "data": {
            "text/plain": [
              "Canada             40.500\n",
              "France             63.951\n",
              "Germany            80.940\n",
              "Italy              60.665\n",
              "Japan             127.061\n",
              "United Kingdom     64.511\n",
              "United States    -500.000\n",
              "Name: G7 Population in millions, dtype: float64"
            ]
          },
          "metadata": {},
          "execution_count": 48
        }
      ],
      "source": [
        "g7_pop"
      ]
    },
    {
      "cell_type": "markdown",
      "source": [
        "Assignment works direct indexing also works by Boolean indexing"
      ],
      "metadata": {
        "id": "87cG8XMoRMiU"
      }
    },
    {
      "cell_type": "code",
      "execution_count": 49,
      "metadata": {
        "id": "arGJGQn9G3lC",
        "outputId": "413088ab-6fd3-45c5-92f1-cbdca834bd93",
        "colab": {
          "base_uri": "https://localhost:8080/"
        }
      },
      "outputs": [
        {
          "output_type": "execute_result",
          "data": {
            "text/plain": [
              "Canada             40.500\n",
              "France             63.951\n",
              "Italy              60.665\n",
              "United Kingdom     64.511\n",
              "United States    -500.000\n",
              "Name: G7 Population in millions, dtype: float64"
            ]
          },
          "metadata": {},
          "execution_count": 49
        }
      ],
      "source": [
        "g7_pop[g7_pop < 70]"
      ]
    },
    {
      "cell_type": "code",
      "execution_count": 50,
      "metadata": {
        "id": "5fcYn4ETG3lD"
      },
      "outputs": [],
      "source": [
        "g7_pop[g7_pop < 70] = 99.99"
      ]
    },
    {
      "cell_type": "code",
      "execution_count": 51,
      "metadata": {
        "scrolled": true,
        "id": "JDZuE0QFG3lD",
        "outputId": "f7876e35-2808-4e47-c81e-9153e939f4c0",
        "colab": {
          "base_uri": "https://localhost:8080/"
        }
      },
      "outputs": [
        {
          "output_type": "execute_result",
          "data": {
            "text/plain": [
              "Canada             99.990\n",
              "France             99.990\n",
              "Germany            80.940\n",
              "Italy              99.990\n",
              "Japan             127.061\n",
              "United Kingdom     99.990\n",
              "United States      99.990\n",
              "Name: G7 Population in millions, dtype: float64"
            ]
          },
          "metadata": {},
          "execution_count": 51
        }
      ],
      "source": [
        "g7_pop"
      ]
    },
    {
      "cell_type": "markdown",
      "metadata": {
        "id": "AfsTRWu-G3lE"
      },
      "source": [
        "![purple-divider](https://user-images.githubusercontent.com/7065401/52071927-c1cd7100-2562-11e9-908a-dde91ba14e59.png)\n"
      ]
    }
  ],
  "metadata": {
    "kernelspec": {
      "display_name": "Python 3",
      "language": "python",
      "name": "python3"
    },
    "language_info": {
      "codemirror_mode": {
        "name": "ipython",
        "version": 3
      },
      "file_extension": ".py",
      "mimetype": "text/x-python",
      "name": "python",
      "nbconvert_exporter": "python",
      "pygments_lexer": "ipython3",
      "version": "3.8.1"
    },
    "colab": {
      "provenance": []
    }
  },
  "nbformat": 4,
  "nbformat_minor": 0
}